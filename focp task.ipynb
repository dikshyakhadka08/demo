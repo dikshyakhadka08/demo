{
 "cells": [
  {
   "cell_type": "code",
   "execution_count": null,
   "id": "385e658b",
   "metadata": {},
   "outputs": [
    {
     "name": "stdout",
     "output_type": "stream",
     "text": [
      "Stop! Who would cross the Bridge of Death Must answer me these questions three, 'ere the other side he see.\n"
     ]
    }
   ],
   "source": [
    "#TASK 1\n",
    "print(\"Stop! Who would cross the Bridge of Death Must answer me these questions three, 'ere the other side he see.\")\n",
    "name = input(\"What is your name? \")\n",
    "if name.lower()==\"arthur\":\n",
    "    print(\"Arthur My liege! You may pass!\")\n",
    "else:\n",
    "    seek = input(\"What do you seek?\")\n",
    "    if \"grail\" in seek:\n",
    "        print(\"Ok!Now last question\")\n",
    "        color=input(\"What is your favourite color?\")\n",
    "        if name[0].upper() in color[0].upper():\n",
    "            print(\"You may pass!\")\n",
    "        else:\n",
    "            print(\"You may not pass\")\n",
    "    else:\n",
    "        print(\"You may not pass\")"
   ]
  },
  {
   "cell_type": "code",
   "execution_count": 2,
   "id": "a3ff04f3",
   "metadata": {},
   "outputs": [
    {
     "ename": "SyntaxError",
     "evalue": "invalid syntax (Temp/ipykernel_17120/2676973815.py, line 13)",
     "output_type": "error",
     "traceback": [
      "\u001b[1;36m  File \u001b[1;32m\"C:\\Users\\HP\\AppData\\Local\\Temp/ipykernel_17120/2676973815.py\"\u001b[1;36m, line \u001b[1;32m13\u001b[0m\n\u001b[1;33m    else:\u001b[0m\n\u001b[1;37m    ^\u001b[0m\n\u001b[1;31mSyntaxError\u001b[0m\u001b[1;31m:\u001b[0m invalid syntax\n"
     ]
    }
   ],
   "source": [
    "print(\"Stop! Who would cross the Bridge of Death Must answer me these questions three, 'ere the other side he see.\")\n",
    "def bridgekeeper()\n",
    "name = input(\"What is your name? \")\n",
    "if \"Arthur\" in name:\n",
    "    print(\"Arthur My liege! You may pass!\")\n",
    "if \"Arthur\" not in name:\n",
    "    seek=input(\"What do you seek?\")\n",
    "    if \"grail\" not in seek:\n",
    "        print(\"Only those who seek the Grail may pass.\")\n",
    "        if \"grail\" in seek:\n",
    "            color=input(\"What is your favourite color?\")\n",
    "            if color[0]== name[0]:\n",
    "                print(\"You may pass!\")\n",
    "                else:\n",
    "                    print(\"nooooooo\")\n",
    "                    #use ternery operator\n",
    "            \n",
    "\n"
   ]
  },
  {
   "cell_type": "code",
   "execution_count": 3,
   "id": "25644e89",
   "metadata": {},
   "outputs": [
    {
     "name": "stdout",
     "output_type": "stream",
     "text": [
      "Stop! Who would cross the Bridge of Death Must answer me these questions three, 'ere the other side he see.\n",
      "What is your name? kjbhjfgfyuv\n",
      "What do you seek?grail\n",
      "Ok!Now last question\n",
      "What is your favourite color?kopo\n",
      "You may pass!\n"
     ]
    }
   ],
   "source": [
    "#Task 1\n",
    "print(\"Stop! Who would cross the Bridge of Death Must answer me these questions three, 'ere the other side he see.\")\n",
    "name = input(\"What is your name? \")\n",
    "if name.lower()==\"arthur\":\n",
    "    print(\"Arthur My liege! You may pass!\")\n",
    "else:\n",
    "    quest = input(\"What do you seek?\")\n",
    "    if \"grail\" in quest:\n",
    "        print(\"Ok!Now last question\")\n",
    "        color=input(\"What is your favourite color?\")\n",
    "        print(\"You may pass!\" if name[0].upper() in color[0].upper() else\"You may not pass\")\n"
   ]
  },
  {
   "cell_type": "code",
   "execution_count": null,
   "id": "ee07cfef",
   "metadata": {},
   "outputs": [],
   "source": []
  }
 ],
 "metadata": {
  "kernelspec": {
   "display_name": "Python 3 (ipykernel)",
   "language": "python",
   "name": "python3"
  },
  "language_info": {
   "codemirror_mode": {
    "name": "ipython",
    "version": 3
   },
   "file_extension": ".py",
   "mimetype": "text/x-python",
   "name": "python",
   "nbconvert_exporter": "python",
   "pygments_lexer": "ipython3",
   "version": "3.9.7"
  }
 },
 "nbformat": 4,
 "nbformat_minor": 5
}
