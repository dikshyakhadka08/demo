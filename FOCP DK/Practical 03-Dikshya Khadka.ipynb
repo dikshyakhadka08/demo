{
 "cells": [
  {
   "cell_type": "code",
   "execution_count": null,
   "metadata": {},
   "outputs": [],
   "source": [
    "#Practical 3 of week 03"
   ]
  },
  {
   "cell_type": "markdown",
   "metadata": {},
   "source": [
    "Try inputting the following code and note the results"
   ]
  },
  {
   "cell_type": "code",
   "execution_count": 1,
   "metadata": {},
   "outputs": [
    {
     "name": "stdout",
     "output_type": "stream",
     "text": [
      "True\n"
     ]
    }
   ],
   "source": [
    "print(\"a\" < \"b\")"
   ]
  },
  {
   "cell_type": "code",
   "execution_count": 2,
   "metadata": {},
   "outputs": [
    {
     "name": "stdout",
     "output_type": "stream",
     "text": [
      "False\n"
     ]
    }
   ],
   "source": [
    "print(\"b\" < \"a\")"
   ]
  },
  {
   "cell_type": "code",
   "execution_count": 3,
   "metadata": {},
   "outputs": [
    {
     "name": "stdout",
     "output_type": "stream",
     "text": [
      "True\n"
     ]
    }
   ],
   "source": [
    "print(\"John\" < \"Terry\")"
   ]
  },
  {
   "cell_type": "markdown",
   "metadata": {},
   "source": [
    "Try inputting the following code and note the result. Try to work out why the answer is\n",
    "different from the previous expression (look carefully, it is different)."
   ]
  },
  {
   "cell_type": "code",
   "execution_count": 4,
   "metadata": {},
   "outputs": [
    {
     "name": "stdout",
     "output_type": "stream",
     "text": [
      "False\n"
     ]
    }
   ],
   "source": [
    "print(\"john\" < \"Terry\")"
   ]
  },
  {
   "cell_type": "code",
   "execution_count": null,
   "metadata": {},
   "outputs": [],
   "source": [
    "Try inputting the following code and note the results."
   ]
  },
  {
   "cell_type": "code",
   "execution_count": 5,
   "metadata": {},
   "outputs": [
    {
     "name": "stdout",
     "output_type": "stream",
     "text": [
      "True\n"
     ]
    }
   ],
   "source": [
    "print(5 < 10.2)"
   ]
  },
  {
   "cell_type": "code",
   "execution_count": 6,
   "metadata": {},
   "outputs": [
    {
     "ename": "TypeError",
     "evalue": "'<' not supported between instances of 'int' and 'str'",
     "output_type": "error",
     "traceback": [
      "\u001b[1;31m---------------------------------------------------------------------------\u001b[0m",
      "\u001b[1;31mTypeError\u001b[0m                                 Traceback (most recent call last)",
      "\u001b[1;32m~\\AppData\\Local\\Temp/ipykernel_1236/2396721094.py\u001b[0m in \u001b[0;36m<module>\u001b[1;34m\u001b[0m\n\u001b[1;32m----> 1\u001b[1;33m \u001b[0mprint\u001b[0m\u001b[1;33m(\u001b[0m\u001b[1;36m5\u001b[0m \u001b[1;33m<\u001b[0m \u001b[1;34m\"Monty\"\u001b[0m\u001b[1;33m)\u001b[0m\u001b[1;33m\u001b[0m\u001b[1;33m\u001b[0m\u001b[0m\n\u001b[0m",
      "\u001b[1;31mTypeError\u001b[0m: '<' not supported between instances of 'int' and 'str'"
     ]
    }
   ],
   "source": [
    "print(5 < \"Monty\")"
   ]
  },
  {
   "cell_type": "code",
   "execution_count": 7,
   "metadata": {},
   "outputs": [
    {
     "ename": "TypeError",
     "evalue": "'<' not supported between instances of 'int' and 'str'",
     "output_type": "error",
     "traceback": [
      "\u001b[1;31m---------------------------------------------------------------------------\u001b[0m",
      "\u001b[1;31mTypeError\u001b[0m                                 Traceback (most recent call last)",
      "\u001b[1;32m~\\AppData\\Local\\Temp/ipykernel_1236/2121095886.py\u001b[0m in \u001b[0;36m<module>\u001b[1;34m\u001b[0m\n\u001b[1;32m----> 1\u001b[1;33m \u001b[0mprint\u001b[0m\u001b[1;33m(\u001b[0m\u001b[1;36m5\u001b[0m \u001b[1;33m<\u001b[0m \u001b[1;34m\"5\"\u001b[0m\u001b[1;33m)\u001b[0m\u001b[1;33m\u001b[0m\u001b[1;33m\u001b[0m\u001b[0m\n\u001b[0m",
      "\u001b[1;31mTypeError\u001b[0m: '<' not supported between instances of 'int' and 'str'"
     ]
    }
   ],
   "source": [
    "print(5 < \"5\")"
   ]
  },
  {
   "cell_type": "code",
   "execution_count": null,
   "metadata": {},
   "outputs": [],
   "source": [
    "Try inputting the following code and examine the results.\n"
   ]
  },
  {
   "cell_type": "code",
   "execution_count": 8,
   "metadata": {},
   "outputs": [
    {
     "data": {
      "text/plain": [
       "False"
      ]
     },
     "execution_count": 8,
     "metadata": {},
     "output_type": "execute_result"
    }
   ],
   "source": [
    "age = 30\n",
    "age >=18 and age <=65\n",
    "age <18 or age >65\n",
    "not age > 18"
   ]
  },
  {
   "cell_type": "code",
   "execution_count": null,
   "metadata": {},
   "outputs": [],
   "source": [
    "Try inputting the following code and examine the result."
   ]
  },
  {
   "cell_type": "code",
   "execution_count": 9,
   "metadata": {},
   "outputs": [
    {
     "data": {
      "text/plain": [
       "False"
      ]
     },
     "execution_count": 9,
     "metadata": {},
     "output_type": "execute_result"
    }
   ],
   "source": [
    "age = 30\n",
    "(age >=18 and age <=65) and (not age==30)"
   ]
  },
  {
   "cell_type": "code",
   "execution_count": null,
   "metadata": {},
   "outputs": [],
   "source": [
    "Try inputting two expressions that use operator chaining and are equivalent to the\n",
    "two expressions shown below. (note: you may first want to first assign values to the\n",
    "‘weight’ and ‘height’ variables for testing purposes)\n"
   ]
  },
  {
   "cell_type": "code",
   "execution_count": 10,
   "metadata": {},
   "outputs": [
    {
     "data": {
      "text/plain": [
       "False"
      ]
     },
     "execution_count": 10,
     "metadata": {},
     "output_type": "execute_result"
    }
   ],
   "source": [
    "100 < 30 and 30 < 200\n",
    "40 > 131 and 40 < 160"
   ]
  },
  {
   "cell_type": "markdown",
   "metadata": {},
   "source": [
    "Input the examples above but with alternative operand values, that result in both\n",
    "True and False results."
   ]
  },
  {
   "cell_type": "code",
   "execution_count": 11,
   "metadata": {},
   "outputs": [
    {
     "data": {
      "text/plain": [
       "True"
      ]
     },
     "execution_count": 11,
     "metadata": {},
     "output_type": "execute_result"
    }
   ],
   "source": [
    "names = [\"Terry\", \"John\", \"Michael\", \"Eric\", \"Terry\",\"Graham\"]\n",
    "\"Eric\" in names\n"
   ]
  },
  {
   "cell_type": "code",
   "execution_count": 12,
   "metadata": {},
   "outputs": [
    {
     "data": {
      "text/plain": [
       "True"
      ]
     },
     "execution_count": 12,
     "metadata": {},
     "output_type": "execute_result"
    }
   ],
   "source": [
    "\"Mark\" not in names"
   ]
  },
  {
   "cell_type": "code",
   "execution_count": 13,
   "metadata": {},
   "outputs": [
    {
     "data": {
      "text/plain": [
       "True"
      ]
     },
     "execution_count": 13,
     "metadata": {},
     "output_type": "execute_result"
    }
   ],
   "source": [
    "message = \"Hello there, my name is John\"\n",
    "\"nam\" in message"
   ]
  },
  {
   "cell_type": "markdown",
   "metadata": {},
   "source": [
    " Try writing an if statement that checks if someone is between the ages of 18 and 30\n",
    "inclusive. If they are, then print a message saying \"you are still young!\"\n"
   ]
  },
  {
   "cell_type": "code",
   "execution_count": 17,
   "metadata": {},
   "outputs": [
    {
     "name": "stdout",
     "output_type": "stream",
     "text": [
      "Enter your age19\n",
      "You are still young\n"
     ]
    }
   ],
   "source": [
    "age = int(input(\"Enter your age\"))\n",
    "if age >=18 and age<= 30:\n",
    "    print(\"You are still young\")"
   ]
  },
  {
   "cell_type": "markdown",
   "metadata": {},
   "source": [
    "Try writing an if statement similar to the last example that includes an extra elif\n",
    "clause to check ages between 30-40. Print a suitable message in the associated code block.\n"
   ]
  },
  {
   "cell_type": "code",
   "execution_count": 18,
   "metadata": {},
   "outputs": [
    {
     "name": "stdout",
     "output_type": "stream",
     "text": [
      "Enter age45\n",
      "you are middle aged\n",
      "never mind\n"
     ]
    }
   ],
   "source": [
    "age = int(input(\"Enter age\"))\n",
    "if age > 100:\n",
    "    print(\"you are very old,\")\n",
    "    print(\"well done!\")\n",
    "elif age > 80:\n",
    "    print(\"you are fairly old\")\n",
    "    print(\"pretty good!\")\n",
    "elif age > 40:\n",
    "    print(\"you are middle aged\")\n",
    "    print(\"never mind\")\n",
    "else:\n",
    "    print(\"you are not very old - yet\")"
   ]
  },
  {
   "cell_type": "markdown",
   "metadata": {},
   "source": [
    "Rewrite the above code that inputs a name then prints a message, but change the\n",
    "condition so it explicitly uses a Boolean expression. Use the example below to help."
   ]
  },
  {
   "cell_type": "code",
   "execution_count": null,
   "metadata": {},
   "outputs": [],
   "source": [
    "name = input(\"Enter your name: \")\n",
    "total = 1\n",
    "if name:\n",
    "    print(\"Your name is\", name)\n",
    "else:\n",
    "    print(\"Name not entered\")\n",
    "if total != 0:\n",
    "    print(\"Total is non-zero\")\n",
    "else:\n",
    "    print(\"Total is zero\")"
   ]
  },
  {
   "cell_type": "markdown",
   "metadata": {},
   "source": [
    " Rewrite the code shown below as a single line Ternary expression.\n"
   ]
  },
  {
   "cell_type": "code",
   "execution_count": 19,
   "metadata": {},
   "outputs": [
    {
     "name": "stdout",
     "output_type": "stream",
     "text": [
      "you are an adult\n"
     ]
    }
   ],
   "source": [
    "print(\"you are an adult\"if age >= 18 else \"you are not an adult, yet!\")"
   ]
  },
  {
   "cell_type": "markdown",
   "metadata": {},
   "source": [
    "Input and execute a for loop that iterates over a list of four names, printing each of\n",
    "them to the screen.\n"
   ]
  },
  {
   "cell_type": "code",
   "execution_count": 21,
   "metadata": {
    "scrolled": true
   },
   "outputs": [
    {
     "name": "stdout",
     "output_type": "stream",
     "text": [
      "['Dikshya', 'Milan', 'Sushant', 'Jibesh']\n",
      "['Dikshya', 'Milan', 'Sushant', 'Jibesh']\n",
      "['Dikshya', 'Milan', 'Sushant', 'Jibesh']\n",
      "['Dikshya', 'Milan', 'Sushant', 'Jibesh']\n"
     ]
    }
   ],
   "source": [
    "names = [\"Dikshya\",\"Milan\",\"Sushant\",\"Jibesh\"]\n",
    "for x in names:\n",
    "    print(names)"
   ]
  },
  {
   "cell_type": "markdown",
   "metadata": {},
   "source": [
    "Input and execute a for loop that uses a range() function to generate the following\n",
    "output:\n",
    "for n in [2, 4, 6, 8, 10]:\n",
    "\tprint(n, \"multiplied by\", n, \"equals\", n * n)\n"
   ]
  },
  {
   "cell_type": "code",
   "execution_count": 22,
   "metadata": {
    "scrolled": true
   },
   "outputs": [
    {
     "name": "stdout",
     "output_type": "stream",
     "text": [
      "2 multiplied by 2 equals 4\n",
      "4 multiplied by 4 equals 16\n",
      "6 multiplied by 6 equals 36\n",
      "8 multiplied by 8 equals 64\n",
      "10 multiplied by 10 equals 100\n"
     ]
    }
   ],
   "source": [
    "num = [2, 4, 6, 8, 10]\n",
    "for n in num:\n",
    "    print(n, \"multiplied by\", n, \"equals\", n * n)"
   ]
  },
  {
   "cell_type": "code",
   "execution_count": 23,
   "metadata": {},
   "outputs": [
    {
     "name": "stdout",
     "output_type": "stream",
     "text": [
      "0 doubled is 0\n",
      "1 doubled is 2\n",
      "2 doubled is 4\n",
      "3 doubled is 6\n",
      "4 doubled is 8\n"
     ]
    }
   ],
   "source": [
    "for n in range(5):\n",
    "    print(n, \"doubled is\", n * 2)"
   ]
  },
  {
   "cell_type": "code",
   "execution_count": 24,
   "metadata": {},
   "outputs": [
    {
     "name": "stdout",
     "output_type": "stream",
     "text": [
      "10 doubled is 20\n",
      "11 doubled is 22\n",
      "12 doubled is 24\n",
      "13 doubled is 26\n",
      "14 doubled is 28\n",
      "15 doubled is 30\n",
      "16 doubled is 32\n",
      "17 doubled is 34\n",
      "18 doubled is 36\n",
      "19 doubled is 38\n"
     ]
    }
   ],
   "source": [
    "for n in range(10, 20):\n",
    "    print(n, \"doubled is\", n * 2)"
   ]
  },
  {
   "cell_type": "code",
   "execution_count": 25,
   "metadata": {},
   "outputs": [
    {
     "name": "stdout",
     "output_type": "stream",
     "text": [
      "20 doubled is 40\n",
      "19 doubled is 38\n",
      "18 doubled is 36\n",
      "17 doubled is 34\n",
      "16 doubled is 32\n",
      "15 doubled is 30\n",
      "14 doubled is 28\n",
      "13 doubled is 26\n",
      "12 doubled is 24\n",
      "11 doubled is 22\n",
      "10 doubled is 20\n",
      "9 doubled is 18\n",
      "8 doubled is 16\n",
      "7 doubled is 14\n",
      "6 doubled is 12\n",
      "5 doubled is 10\n",
      "4 doubled is 8\n",
      "3 doubled is 6\n",
      "2 doubled is 4\n",
      "1 doubled is 2\n"
     ]
    }
   ],
   "source": [
    "for n in range(20, 0, -1):\n",
    "    print(n, \"doubled is\", n * 2)\n"
   ]
  },
  {
   "cell_type": "code",
   "execution_count": null,
   "metadata": {},
   "outputs": [],
   "source": [
    "for n in range(2,12,2):\n",
    "    print(n,\"to the power of\",n,n**n)\n"
   ]
  },
  {
   "cell_type": "markdown",
   "metadata": {},
   "source": [
    "Input code containing a for loop that iterates over a list of numbers, printing a\n",
    "running total during each iteration. You may wish to first define the numbers list as follows"
   ]
  },
  {
   "cell_type": "code",
   "execution_count": 5,
   "metadata": {},
   "outputs": [
    {
     "name": "stdout",
     "output_type": "stream",
     "text": [
      "total: 10\n",
      "total: 30\n",
      "total: 60\n",
      "total: 150\n",
      "total: 350\n",
      "total: 380\n",
      "total: 402\n",
      "total: 413\n"
     ]
    }
   ],
   "source": [
    "numbers=[10,20,30,90,200,30,22,11]\n",
    "total=0\n",
    "for i in numbers:\n",
    "    total = total + i\n",
    "    print(\"total:\",total)\n",
    "\n",
    "    "
   ]
  },
  {
   "cell_type": "markdown",
   "metadata": {},
   "source": [
    "Amend your previous solution so that if any value within the list is found to be over\n",
    "100 then the loop should break immediately.\n"
   ]
  },
  {
   "cell_type": "code",
   "execution_count": 9,
   "metadata": {},
   "outputs": [
    {
     "name": "stdout",
     "output_type": "stream",
     "text": [
      "Total: 10\n",
      "Total: 30\n",
      "Total: 60\n",
      "Total: 150\n"
     ]
    }
   ],
   "source": [
    "numbers=[10,20,30,90,200,30,22,11]\n",
    "total=0\n",
    "for i in numbers:\n",
    "    if i > 100:\n",
    "        break\n",
    "    total = total + i\n",
    "    print(\"Total:\",total)"
   ]
  },
  {
   "cell_type": "markdown",
   "metadata": {},
   "source": [
    ": Amend your previous solution once again, so that the message “all numbers\n",
    "processed” is printed when the loop completes, but only if all values were less or equal to\n",
    "100 (i.e. the loop did not break early)"
   ]
  },
  {
   "cell_type": "code",
   "execution_count": 12,
   "metadata": {},
   "outputs": [
    {
     "name": "stdout",
     "output_type": "stream",
     "text": [
      "10\n",
      "30\n",
      "60\n",
      "150\n"
     ]
    }
   ],
   "source": [
    "numbers=[10,20,30,90,200,30,22,11]\n",
    "total= 0\n",
    "for i in numbers:\n",
    "    total = total + i\n",
    "    if i> 100:\n",
    "        break\n",
    "    print(total)\n",
    "else:\n",
    "    print(\"All numbers processed\")"
   ]
  },
  {
   "cell_type": "markdown",
   "metadata": {},
   "source": [
    "Boolean Expression:\n",
    "Boolean Expression is a logical statement that can have only the values true or false"
   ]
  },
  {
   "cell_type": "markdown",
   "metadata": {},
   "source": [
    "Relational Operator:\n",
    "Relational Operator are used to compare the operands on either side and determine the relation between them. "
   ]
  },
  {
   "cell_type": "markdown",
   "metadata": {},
   "source": [
    "Logical Operator:\n",
    "Logical Operators are used to perform logical operations on the values of variables"
   ]
  },
  {
   "cell_type": "markdown",
   "metadata": {},
   "source": [
    " Operator Chaining:Chaining relational operators is equivalent to using the logical ‘and’ operator, \n"
   ]
  },
  {
   "cell_type": "markdown",
   "metadata": {},
   "source": [
    "Ternary Operator:A ternary operator is used to return a value based on a condition"
   ]
  },
  {
   "cell_type": "markdown",
   "metadata": {},
   "source": [
    "Iteration:\n",
    "Iterations are performed through 'for' and 'while' loops. Iterations execute a set of instructions repeatedly until some limiting criteria is met."
   ]
  },
  {
   "cell_type": "markdown",
   "metadata": {},
   "source": [
    "Nested Loop:\n",
    "Nested loop is loop inside the body of the outer loop.\n",
    "In other word when implementing certain algorithms however it is often necessary to include control statements within code blocks of other control flow statement is known as nested loop"
   ]
  }
 ],
 "metadata": {
  "kernelspec": {
   "display_name": "Python 3 (ipykernel)",
   "language": "python",
   "name": "python3"
  },
  "language_info": {
   "codemirror_mode": {
    "name": "ipython",
    "version": 3
   },
   "file_extension": ".py",
   "mimetype": "text/x-python",
   "name": "python",
   "nbconvert_exporter": "python",
   "pygments_lexer": "ipython3",
   "version": "3.9.7"
  }
 },
 "nbformat": 4,
 "nbformat_minor": 4
}
