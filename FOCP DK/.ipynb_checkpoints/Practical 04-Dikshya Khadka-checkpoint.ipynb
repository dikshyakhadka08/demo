{
 "cells": [
  {
   "cell_type": "code",
   "execution_count": null,
   "metadata": {},
   "outputs": [],
   "source": [
    "#Pratical 04 of Week 04"
   ]
  },
  {
   "cell_type": "markdown",
   "metadata": {},
   "source": [
    "Write some code that imports the math module, then calculates and prints the square root of the number 2401. Use the sqrt() function provided by the math module.\n"
   ]
  },
  {
   "cell_type": "code",
   "execution_count": 1,
   "metadata": {},
   "outputs": [
    {
     "data": {
      "text/plain": [
       "49.0"
      ]
     },
     "execution_count": 1,
     "metadata": {},
     "output_type": "execute_result"
    }
   ],
   "source": [
    "from math import sqrt \n",
    "sqrt(2401)"
   ]
  },
  {
   "cell_type": "markdown",
   "metadata": {},
   "source": [
    " Write some code that imports only the log2() function from the math module, then call this function to calculate the log base 2 value of 1024. Print the result to the screen."
   ]
  },
  {
   "cell_type": "code",
   "execution_count": 2,
   "metadata": {},
   "outputs": [
    {
     "data": {
      "text/plain": [
       "10.0"
      ]
     },
     "execution_count": 2,
     "metadata": {},
     "output_type": "execute_result"
    }
   ],
   "source": [
    "from math import log2\n",
    "log2(1024)"
   ]
  },
  {
   "cell_type": "markdown",
   "metadata": {},
   "source": [
    "Input the above function definition. Once that is done make several calls to the function passing different argument values for testing.\n"
   ]
  },
  {
   "cell_type": "code",
   "execution_count": 3,
   "metadata": {},
   "outputs": [
    {
     "name": "stdout",
     "output_type": "stream",
     "text": [
      "Welcome Krishna Sir\n",
      "Welcome Krishna Sir\n",
      "True\n",
      "True\n",
      "10\n",
      "10\n"
     ]
    }
   ],
   "source": [
    "def displayTwice(msg):\n",
    "    print(msg)\n",
    "    print(msg)\n",
    "\n",
    "displayTwice(\"Welcome Krishna Sir\")\n",
    "displayTwice(True)\n",
    "displayTwice(10)\n"
   ]
  },
  {
   "cell_type": "markdown",
   "metadata": {},
   "source": [
    " Re-Input the above function definition, but this time add a docstring that includes a description of the function’s purpose. Once that is done enter a command such as help(displayTwice) and see what it displays."
   ]
  },
  {
   "cell_type": "code",
   "execution_count": 5,
   "metadata": {},
   "outputs": [
    {
     "name": "stdout",
     "output_type": "stream",
     "text": [
      "Help on function displayTwice in module __main__:\n",
      "\n",
      "displayTwice(msg)\n",
      "    Here Function takes in a value and print it twice in the console.\n",
      "\n"
     ]
    }
   ],
   "source": [
    "def displayTwice(msg):\n",
    "    \"\"\"Here Function takes in a value and print it twice in the console.\"\"\"\n",
    "    print(msg)\n",
    "    print(msg)\n",
    "\n",
    "help(displayTwice)"
   ]
  },
  {
   "cell_type": "markdown",
   "metadata": {},
   "source": [
    " Input the above function definition. Once that is done make several calls to the function passing different argument values and displaying the returned value.\n"
   ]
  },
  {
   "cell_type": "code",
   "execution_count": 7,
   "metadata": {},
   "outputs": [
    {
     "name": "stdout",
     "output_type": "stream",
     "text": [
      "b\n",
      "10\n"
     ]
    }
   ],
   "source": [
    "def findMax(a,b):\n",
    "    \"\"\"Finds the maximum of two values.\"\"\"\n",
    "    if ( a > b ):\n",
    "        max = a\n",
    "    else:\n",
    "        max = b\n",
    "    return max\n",
    "print(findMax(\"a\",\"b\"))\n",
    "print(findMax(5,10))"
   ]
  },
  {
   "cell_type": "markdown",
   "metadata": {},
   "source": [
    "Define a function that takes two numeric values, multiplies them together then returns the result. If the function is called with only a single argument however, then the value should be multiplied by itself. Once the function is defined, call it several times and display the returned values for testing purposes."
   ]
  },
  {
   "cell_type": "code",
   "execution_count": 8,
   "metadata": {},
   "outputs": [
    {
     "name": "stdout",
     "output_type": "stream",
     "text": [
      "25\n",
      "36\n",
      "56\n",
      "90\n"
     ]
    }
   ],
   "source": [
    "def multiply(num1,num2=None):\n",
    "    if num2==None:\n",
    "        return num1*num1\n",
    "    else:\n",
    "        return num1*num2\n",
    "print(multiply(5))\n",
    "print(multiply(6))\n",
    "print(multiply(7,8))\n",
    "print(multiply(9,10))"
   ]
  },
  {
   "cell_type": "markdown",
   "metadata": {},
   "source": [
    "Enter the example function shown above, then try calling it using the keyword arguments in several different orders.\n"
   ]
  },
  {
   "cell_type": "code",
   "execution_count": 9,
   "metadata": {},
   "outputs": [
    {
     "name": "stdout",
     "output_type": "stream",
     "text": [
      "x is 2 \n",
      "y is 4 \n",
      "z is 6\n",
      "x is 2 \n",
      "y is 4 \n",
      "z is 6\n",
      "x is 2 \n",
      "y is 4 \n",
      "z is 6\n",
      "x is 2 \n",
      "y is 4 \n",
      "z is 6\n"
     ]
    }
   ],
   "source": [
    "def someFunc(x, y, z):\n",
    "    print(\"x is\", x, \"\\ny is\", y, \"\\nz is\", z)\n",
    "someFunc(x=2,y=4,z=6)\n",
    "someFunc(y=4,z=6,x=2)\n",
    "someFunc(x=2,z=6,y=4)\n",
    "someFunc(z=6,x=2,y=4)"
   ]
  },
  {
   "cell_type": "markdown",
   "metadata": {},
   "source": [
    "The built-in print() function supports a keyword argument called sep. This is used to decide what character to display between each of the provided positional parameters. Write some code that makes several calls to the print() function while setting the sep argument to values other than a space (which is the default)."
   ]
  },
  {
   "cell_type": "code",
   "execution_count": 10,
   "metadata": {},
   "outputs": [
    {
     "name": "stdout",
     "output_type": "stream",
     "text": [
      "Welcome#Python \n",
      "Welcome*Sir\n",
      "4+6\n",
      "5*7\n"
     ]
    }
   ],
   "source": [
    "print(\"Welcome\",\"Python \",sep=\"#\")\n",
    "print(\"Welcome\",\"Sir\",sep=\"*\")\n",
    "print(4,6,sep=\"+\")\n",
    "print(5,7,sep=\"*\")"
   ]
  },
  {
   "cell_type": "markdown",
   "metadata": {},
   "source": [
    "Enter the example function shown above, then try calling it several times, passing a different number of numeric arguments each time.\n"
   ]
  },
  {
   "cell_type": "code",
   "execution_count": 12,
   "metadata": {},
   "outputs": [
    {
     "name": "stdout",
     "output_type": "stream",
     "text": [
      "3.0\n",
      "5.0\n",
      "7.5\n"
     ]
    }
   ],
   "source": [
    "def calcAve(*numbers):\n",
    "    total = 0\n",
    "    for num in numbers:\n",
    "        total += num\n",
    "    return total/len(numbers)\n",
    "print(calcAve(2,4))\n",
    "print(calcAve(3,5,7))\n",
    "print(calcAve(9,8,7,6))"
   ]
  },
  {
   "cell_type": "markdown",
   "metadata": {},
   "source": [
    "Enter the example lambda expression shown above, then find out the data type of the hypot variable using a call to the type() function. Notice the result."
   ]
  },
  {
   "cell_type": "code",
   "execution_count": 13,
   "metadata": {},
   "outputs": [
    {
     "data": {
      "text/plain": [
       "function"
      ]
     },
     "execution_count": 13,
     "metadata": {},
     "output_type": "execute_result"
    }
   ],
   "source": [
    "hypot = lambda a,b : math.sqrt(a * a + b * b)\n",
    "type(hypot)"
   ]
  },
  {
   "cell_type": "markdown",
   "metadata": {},
   "source": [
    " Write a lambda expression that takes two formal parameters, hours and minutes. The expression should calculate and return the total number of equivalent seconds. Assign the expression to a variable called to_seconds, then call the function several times for testing.\n"
   ]
  },
  {
   "cell_type": "code",
   "execution_count": 2,
   "metadata": {},
   "outputs": [
    {
     "name": "stdout",
     "output_type": "stream",
     "text": [
      "4080\n",
      "32760\n",
      "3600\n"
     ]
    }
   ],
   "source": [
    "to_seconds=lambda hours,minutes:hours*3600+minutes*60\n",
    "print(to_seconds(1,8))\n",
    "print(to_seconds(9,6))\n",
    "print(to_seconds(0,60))"
   ]
  },
  {
   "cell_type": "markdown",
   "metadata": {},
   "source": [
    "Improve your previous lambda expression so that if only one argument is passed within a call, then the number of minutes defaults to 0, as detailed below:"
   ]
  },
  {
   "cell_type": "code",
   "execution_count": 17,
   "metadata": {},
   "outputs": [
    {
     "name": "stdout",
     "output_type": "stream",
     "text": [
      "36000\n",
      "18000\n",
      "43440\n"
     ]
    }
   ],
   "source": [
    "to_seconds=lambda hours,minutes=0:hours*3600+minutes*60\n",
    "print(to_seconds(10))\n",
    "print(to_seconds(5))\n",
    "print(to_seconds(12,4))"
   ]
  }
 ],
 "metadata": {
  "kernelspec": {
   "display_name": "Python 3 (ipykernel)",
   "language": "python",
   "name": "python3"
  },
  "language_info": {
   "codemirror_mode": {
    "name": "ipython",
    "version": 3
   },
   "file_extension": ".py",
   "mimetype": "text/x-python",
   "name": "python",
   "nbconvert_exporter": "python",
   "pygments_lexer": "ipython3",
   "version": "3.9.7"
  }
 },
 "nbformat": 4,
 "nbformat_minor": 4
}
